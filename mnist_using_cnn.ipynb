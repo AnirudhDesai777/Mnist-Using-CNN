{
  "nbformat": 4,
  "nbformat_minor": 0,
  "metadata": {
    "colab": {
      "name": "mnist using cnn",
      "provenance": [],
      "collapsed_sections": [],
      "authorship_tag": "ABX9TyOWicxmS76Bv9I+9kwNiT79",
      "include_colab_link": true
    },
    "kernelspec": {
      "name": "python3",
      "display_name": "Python 3"
    }
  },
  "cells": [
    {
      "cell_type": "markdown",
      "metadata": {
        "id": "view-in-github",
        "colab_type": "text"
      },
      "source": [
        "<a href=\"https://colab.research.google.com/github/AnirudhDesai777/Mnist-Using-CNN/blob/master/mnist_using_cnn.ipynb\" target=\"_parent\"><img src=\"https://colab.research.google.com/assets/colab-badge.svg\" alt=\"Open In Colab\"/></a>"
      ]
    },
    {
      "cell_type": "code",
      "metadata": {
        "id": "vPoN7ymD9iG8",
        "colab_type": "code",
        "colab": {}
      },
      "source": [
        "import numpy as np\n",
        "import mnist\n",
        "from keras.models import Sequential\n",
        "from keras.layers import Conv2D, MaxPooling2D, Dense, Flatten\n",
        "from keras.utils import to_categorical"
      ],
      "execution_count": null,
      "outputs": []
    },
    {
      "cell_type": "code",
      "metadata": {
        "id": "OtiJfbg392Jt",
        "colab_type": "code",
        "colab": {}
      },
      "source": [
        "train_images = mnist.train_images()\n",
        "train_labels = mnist.train_labels()\n",
        "test_images = mnist.test_images()\n",
        "test_labels = mnist.test_labels()"
      ],
      "execution_count": null,
      "outputs": []
    },
    {
      "cell_type": "code",
      "metadata": {
        "id": "jJfeyhkl-WzD",
        "colab_type": "code",
        "colab": {}
      },
      "source": [
        "train_images = (train_images/255)-0.5\n",
        "test_images = (test_images/255)-0.5\n",
        "train_images = np.expand_dims(train_images, axis=3)\n",
        "test_images = np.expand_dims(test_images, axis =3)"
      ],
      "execution_count": null,
      "outputs": []
    },
    {
      "cell_type": "code",
      "metadata": {
        "id": "IttsrEpB-lAT",
        "colab_type": "code",
        "colab": {}
      },
      "source": [
        "num_filters = 8\n",
        "filter_size = 3\n",
        "pool_size = 2"
      ],
      "execution_count": null,
      "outputs": []
    },
    {
      "cell_type": "code",
      "metadata": {
        "id": "lsBbPcId-tPx",
        "colab_type": "code",
        "colab": {}
      },
      "source": [
        "model = Sequential([\n",
        "                    Conv2D(num_filters, filter_size, input_shape=(28,28,1)),\n",
        "                    MaxPooling2D(pool_size=pool_size),\n",
        "                    Flatten(),\n",
        "                    Dense(10, activation='softmax'),\n",
        "])"
      ],
      "execution_count": null,
      "outputs": []
    },
    {
      "cell_type": "code",
      "metadata": {
        "id": "w9_XGgXu_O2Z",
        "colab_type": "code",
        "colab": {}
      },
      "source": [
        "model.compile(\n",
        "    'adam',\n",
        "    loss='categorical_crossentropy',\n",
        "    metrics=['accuracy'],\n",
        ")"
      ],
      "execution_count": null,
      "outputs": []
    },
    {
      "cell_type": "code",
      "metadata": {
        "id": "iujrWbrE_fvq",
        "colab_type": "code",
        "colab": {
          "base_uri": "https://localhost:8080/",
          "height": 1000
        },
        "outputId": "ae3ca3fc-b6fd-460e-c739-5322da4887fe"
      },
      "source": [
        "model.fit(\n",
        "    train_images,\n",
        "    to_categorical(train_labels),\n",
        "    epochs=60,\n",
        "    validation_data=(test_images, to_categorical(test_labels)),\n",
        ")"
      ],
      "execution_count": null,
      "outputs": [
        {
          "output_type": "stream",
          "text": [
            "Epoch 1/60\n",
            "1875/1875 [==============================] - 19s 10ms/step - loss: 2.1893 - accuracy: 0.4119 - val_loss: 2.1152 - val_accuracy: 0.6054\n",
            "Epoch 2/60\n",
            "1875/1875 [==============================] - 19s 10ms/step - loss: 2.0048 - accuracy: 0.6004 - val_loss: 1.8511 - val_accuracy: 0.6870\n",
            "Epoch 3/60\n",
            "1875/1875 [==============================] - 20s 10ms/step - loss: 1.6646 - accuracy: 0.7153 - val_loss: 1.4432 - val_accuracy: 0.7430\n",
            "Epoch 4/60\n",
            "1875/1875 [==============================] - 19s 10ms/step - loss: 1.2656 - accuracy: 0.7718 - val_loss: 1.0836 - val_accuracy: 0.7787\n",
            "Epoch 5/60\n",
            "1875/1875 [==============================] - 19s 10ms/step - loss: 0.9684 - accuracy: 0.8006 - val_loss: 0.8380 - val_accuracy: 0.8249\n",
            "Epoch 6/60\n",
            "1875/1875 [==============================] - 19s 10ms/step - loss: 0.7777 - accuracy: 0.8213 - val_loss: 0.6871 - val_accuracy: 0.8385\n",
            "Epoch 7/60\n",
            "1875/1875 [==============================] - 19s 10ms/step - loss: 0.6504 - accuracy: 0.8375 - val_loss: 0.5741 - val_accuracy: 0.8581\n",
            "Epoch 8/60\n",
            "1875/1875 [==============================] - 19s 10ms/step - loss: 0.5597 - accuracy: 0.8525 - val_loss: 0.5033 - val_accuracy: 0.8688\n",
            "Epoch 9/60\n",
            "1875/1875 [==============================] - 19s 10ms/step - loss: 0.4946 - accuracy: 0.8648 - val_loss: 0.4461 - val_accuracy: 0.8819\n",
            "Epoch 10/60\n",
            "1875/1875 [==============================] - 19s 10ms/step - loss: 0.4498 - accuracy: 0.8740 - val_loss: 0.4088 - val_accuracy: 0.8866\n",
            "Epoch 11/60\n",
            "1875/1875 [==============================] - 19s 10ms/step - loss: 0.4177 - accuracy: 0.8822 - val_loss: 0.3868 - val_accuracy: 0.8884\n",
            "Epoch 12/60\n",
            "1875/1875 [==============================] - 19s 10ms/step - loss: 0.3936 - accuracy: 0.8870 - val_loss: 0.3646 - val_accuracy: 0.8965\n",
            "Epoch 13/60\n",
            "1875/1875 [==============================] - 19s 10ms/step - loss: 0.3744 - accuracy: 0.8924 - val_loss: 0.3523 - val_accuracy: 0.8952\n",
            "Epoch 14/60\n",
            "1875/1875 [==============================] - 19s 10ms/step - loss: 0.3596 - accuracy: 0.8963 - val_loss: 0.3361 - val_accuracy: 0.9055\n",
            "Epoch 15/60\n",
            "1875/1875 [==============================] - 19s 10ms/step - loss: 0.3470 - accuracy: 0.8998 - val_loss: 0.3244 - val_accuracy: 0.9079\n",
            "Epoch 16/60\n",
            "1875/1875 [==============================] - 19s 10ms/step - loss: 0.3367 - accuracy: 0.9019 - val_loss: 0.3182 - val_accuracy: 0.9092\n",
            "Epoch 17/60\n",
            "1875/1875 [==============================] - 19s 10ms/step - loss: 0.3278 - accuracy: 0.9045 - val_loss: 0.3091 - val_accuracy: 0.9110\n",
            "Epoch 18/60\n",
            "1875/1875 [==============================] - 19s 10ms/step - loss: 0.3197 - accuracy: 0.9068 - val_loss: 0.2996 - val_accuracy: 0.9159\n",
            "Epoch 19/60\n",
            "1875/1875 [==============================] - 19s 10ms/step - loss: 0.3128 - accuracy: 0.9092 - val_loss: 0.2942 - val_accuracy: 0.9164\n",
            "Epoch 20/60\n",
            "1875/1875 [==============================] - 19s 10ms/step - loss: 0.3066 - accuracy: 0.9101 - val_loss: 0.2930 - val_accuracy: 0.9168\n",
            "Epoch 21/60\n",
            "1875/1875 [==============================] - 19s 10ms/step - loss: 0.3004 - accuracy: 0.9128 - val_loss: 0.2812 - val_accuracy: 0.9207\n",
            "Epoch 22/60\n",
            "1875/1875 [==============================] - 19s 10ms/step - loss: 0.2947 - accuracy: 0.9143 - val_loss: 0.2789 - val_accuracy: 0.9200\n",
            "Epoch 23/60\n",
            "1875/1875 [==============================] - 19s 10ms/step - loss: 0.2896 - accuracy: 0.9152 - val_loss: 0.2755 - val_accuracy: 0.9201\n",
            "Epoch 24/60\n",
            "1875/1875 [==============================] - 19s 10ms/step - loss: 0.2847 - accuracy: 0.9168 - val_loss: 0.2831 - val_accuracy: 0.9167\n",
            "Epoch 25/60\n",
            "1875/1875 [==============================] - 19s 10ms/step - loss: 0.2800 - accuracy: 0.9183 - val_loss: 0.2636 - val_accuracy: 0.9261\n",
            "Epoch 26/60\n",
            "1875/1875 [==============================] - 19s 10ms/step - loss: 0.2753 - accuracy: 0.9196 - val_loss: 0.2613 - val_accuracy: 0.9269\n",
            "Epoch 27/60\n",
            "1875/1875 [==============================] - 19s 10ms/step - loss: 0.2716 - accuracy: 0.9203 - val_loss: 0.2541 - val_accuracy: 0.9275\n",
            "Epoch 28/60\n",
            "1875/1875 [==============================] - 19s 10ms/step - loss: 0.2674 - accuracy: 0.9213 - val_loss: 0.2607 - val_accuracy: 0.9245\n",
            "Epoch 29/60\n",
            "1875/1875 [==============================] - 19s 10ms/step - loss: 0.2639 - accuracy: 0.9230 - val_loss: 0.2545 - val_accuracy: 0.9252\n",
            "Epoch 30/60\n",
            "1875/1875 [==============================] - 19s 10ms/step - loss: 0.2592 - accuracy: 0.9239 - val_loss: 0.2451 - val_accuracy: 0.9303\n",
            "Epoch 31/60\n",
            "1875/1875 [==============================] - 19s 10ms/step - loss: 0.2560 - accuracy: 0.9255 - val_loss: 0.2436 - val_accuracy: 0.9305\n",
            "Epoch 32/60\n",
            "1875/1875 [==============================] - 19s 10ms/step - loss: 0.2522 - accuracy: 0.9260 - val_loss: 0.2380 - val_accuracy: 0.9318\n",
            "Epoch 33/60\n",
            "1875/1875 [==============================] - 19s 10ms/step - loss: 0.2490 - accuracy: 0.9275 - val_loss: 0.2350 - val_accuracy: 0.9332\n",
            "Epoch 34/60\n",
            "1875/1875 [==============================] - 19s 10ms/step - loss: 0.2456 - accuracy: 0.9277 - val_loss: 0.2320 - val_accuracy: 0.9349\n",
            "Epoch 35/60\n",
            "1875/1875 [==============================] - 19s 10ms/step - loss: 0.2422 - accuracy: 0.9291 - val_loss: 0.2317 - val_accuracy: 0.9331\n",
            "Epoch 36/60\n",
            "1875/1875 [==============================] - 20s 10ms/step - loss: 0.2390 - accuracy: 0.9302 - val_loss: 0.2277 - val_accuracy: 0.9349\n",
            "Epoch 37/60\n",
            "1875/1875 [==============================] - 19s 10ms/step - loss: 0.2356 - accuracy: 0.9317 - val_loss: 0.2224 - val_accuracy: 0.9377\n",
            "Epoch 38/60\n",
            "1875/1875 [==============================] - 19s 10ms/step - loss: 0.2331 - accuracy: 0.9320 - val_loss: 0.2209 - val_accuracy: 0.9375\n",
            "Epoch 39/60\n",
            "1875/1875 [==============================] - 20s 10ms/step - loss: 0.2297 - accuracy: 0.9328 - val_loss: 0.2170 - val_accuracy: 0.9368\n",
            "Epoch 40/60\n",
            "1875/1875 [==============================] - 19s 10ms/step - loss: 0.2266 - accuracy: 0.9340 - val_loss: 0.2148 - val_accuracy: 0.9378\n",
            "Epoch 41/60\n",
            "1875/1875 [==============================] - 19s 10ms/step - loss: 0.2236 - accuracy: 0.9348 - val_loss: 0.2146 - val_accuracy: 0.9372\n",
            "Epoch 42/60\n",
            "1875/1875 [==============================] - 19s 10ms/step - loss: 0.2208 - accuracy: 0.9362 - val_loss: 0.2115 - val_accuracy: 0.9393\n",
            "Epoch 43/60\n",
            "1875/1875 [==============================] - 19s 10ms/step - loss: 0.2181 - accuracy: 0.9365 - val_loss: 0.2086 - val_accuracy: 0.9410\n",
            "Epoch 44/60\n",
            "1875/1875 [==============================] - 19s 10ms/step - loss: 0.2152 - accuracy: 0.9377 - val_loss: 0.2063 - val_accuracy: 0.9398\n",
            "Epoch 45/60\n",
            "1875/1875 [==============================] - 19s 10ms/step - loss: 0.2125 - accuracy: 0.9386 - val_loss: 0.2027 - val_accuracy: 0.9411\n",
            "Epoch 46/60\n",
            "1875/1875 [==============================] - 19s 10ms/step - loss: 0.2097 - accuracy: 0.9395 - val_loss: 0.2000 - val_accuracy: 0.9429\n",
            "Epoch 47/60\n",
            "1875/1875 [==============================] - 19s 10ms/step - loss: 0.2076 - accuracy: 0.9399 - val_loss: 0.2014 - val_accuracy: 0.9418\n",
            "Epoch 48/60\n",
            "1875/1875 [==============================] - 19s 10ms/step - loss: 0.2046 - accuracy: 0.9410 - val_loss: 0.1953 - val_accuracy: 0.9428\n",
            "Epoch 49/60\n",
            "1875/1875 [==============================] - 19s 10ms/step - loss: 0.2023 - accuracy: 0.9412 - val_loss: 0.1932 - val_accuracy: 0.9421\n",
            "Epoch 50/60\n",
            "1875/1875 [==============================] - 19s 10ms/step - loss: 0.1998 - accuracy: 0.9424 - val_loss: 0.1961 - val_accuracy: 0.9433\n",
            "Epoch 51/60\n",
            "1875/1875 [==============================] - 19s 10ms/step - loss: 0.1973 - accuracy: 0.9429 - val_loss: 0.1902 - val_accuracy: 0.9440\n",
            "Epoch 52/60\n",
            "1875/1875 [==============================] - 19s 10ms/step - loss: 0.1946 - accuracy: 0.9443 - val_loss: 0.1892 - val_accuracy: 0.9446\n",
            "Epoch 53/60\n",
            "1875/1875 [==============================] - 19s 10ms/step - loss: 0.1921 - accuracy: 0.9450 - val_loss: 0.1843 - val_accuracy: 0.9456\n",
            "Epoch 54/60\n",
            "1875/1875 [==============================] - 19s 10ms/step - loss: 0.1901 - accuracy: 0.9457 - val_loss: 0.1853 - val_accuracy: 0.9467\n",
            "Epoch 55/60\n",
            "1875/1875 [==============================] - 19s 10ms/step - loss: 0.1875 - accuracy: 0.9462 - val_loss: 0.1801 - val_accuracy: 0.9475\n",
            "Epoch 56/60\n",
            "1875/1875 [==============================] - 19s 10ms/step - loss: 0.1854 - accuracy: 0.9470 - val_loss: 0.1784 - val_accuracy: 0.9469\n",
            "Epoch 57/60\n",
            "1875/1875 [==============================] - 19s 10ms/step - loss: 0.1830 - accuracy: 0.9478 - val_loss: 0.1782 - val_accuracy: 0.9484\n",
            "Epoch 58/60\n",
            "1875/1875 [==============================] - 19s 10ms/step - loss: 0.1803 - accuracy: 0.9485 - val_loss: 0.1747 - val_accuracy: 0.9500\n",
            "Epoch 59/60\n",
            "1875/1875 [==============================] - 19s 10ms/step - loss: 0.1786 - accuracy: 0.9490 - val_loss: 0.1729 - val_accuracy: 0.9502\n",
            "Epoch 60/60\n",
            "1875/1875 [==============================] - 19s 10ms/step - loss: 0.1767 - accuracy: 0.9499 - val_loss: 0.1696 - val_accuracy: 0.9497\n"
          ],
          "name": "stdout"
        },
        {
          "output_type": "execute_result",
          "data": {
            "text/plain": [
              "<tensorflow.python.keras.callbacks.History at 0x7fc6af8f7780>"
            ]
          },
          "metadata": {
            "tags": []
          },
          "execution_count": 24
        }
      ]
    },
    {
      "cell_type": "code",
      "metadata": {
        "id": "XM_CQHUz_0ZH",
        "colab_type": "code",
        "colab": {}
      },
      "source": [
        "model.save_weights('cnn.h5')"
      ],
      "execution_count": null,
      "outputs": []
    },
    {
      "cell_type": "code",
      "metadata": {
        "id": "CVPKZCTgHLXR",
        "colab_type": "code",
        "colab": {
          "base_uri": "https://localhost:8080/",
          "height": 67
        },
        "outputId": "619cf030-15d8-4474-820b-cda090eb43aa"
      },
      "source": [
        "x = model.predict(test_images[:100])\n",
        "print(np.argmax(x, axis =1))"
      ],
      "execution_count": null,
      "outputs": [
        {
          "output_type": "stream",
          "text": [
            "[7 2 1 0 4 1 4 9 6 9 0 6 9 0 1 5 9 7 8 4 9 6 6 5 4 0 7 4 0 1 3 1 3 6 7 2 7\n",
            " 1 2 1 1 7 4 2 3 5 1 2 4 4 6 3 5 5 6 0 4 1 9 5 7 8 9 2 7 4 6 4 3 0 7 0 2 9\n",
            " 1 7 3 7 9 7 9 6 2 7 8 4 7 3 6 1 3 6 4 3 1 4 1 7 6 9]\n"
          ],
          "name": "stdout"
        }
      ]
    },
    {
      "cell_type": "code",
      "metadata": {
        "id": "cxMnGKkXHw8F",
        "colab_type": "code",
        "colab": {
          "base_uri": "https://localhost:8080/",
          "height": 67
        },
        "outputId": "d9a059b4-b725-47c9-eed2-fb568db45f70"
      },
      "source": [
        "print(test_labels[:100])"
      ],
      "execution_count": null,
      "outputs": [
        {
          "output_type": "stream",
          "text": [
            "[7 2 1 0 4 1 4 9 5 9 0 6 9 0 1 5 9 7 3 4 9 6 6 5 4 0 7 4 0 1 3 1 3 4 7 2 7\n",
            " 1 2 1 1 7 4 2 3 5 1 2 4 4 6 3 5 5 6 0 4 1 9 5 7 8 9 3 7 4 6 4 3 0 7 0 2 9\n",
            " 1 7 3 2 9 7 7 6 2 7 8 4 7 3 6 1 3 6 9 3 1 4 1 7 6 9]\n"
          ],
          "name": "stdout"
        }
      ]
    },
    {
      "cell_type": "code",
      "metadata": {
        "id": "VlFDlPjhIAab",
        "colab_type": "code",
        "colab": {}
      },
      "source": [
        ""
      ],
      "execution_count": null,
      "outputs": []
    }
  ]
}